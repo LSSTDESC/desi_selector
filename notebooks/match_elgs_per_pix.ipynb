{
 "cells": [
  {
   "cell_type": "code",
   "execution_count": 1,
   "id": "b3ad9f02-6184-411c-b0fc-ab44fc16ab3c",
   "metadata": {
    "tags": []
   },
   "outputs": [],
   "source": [
    "import numpy as np\n",
    "import pandas as pd\n",
    "from scipy import interpolate\n",
    "from astropy import table\n",
    "import h5py\n",
    "import glob\n",
    "import sys\n",
    "from pathlib import Path\n",
    "from astropy.cosmology import Planck18 as cosmo\n",
    "from astropy.coordinates import SkyCoord\n",
    "from astropy import units as u\n",
    "\n"
   ]
  },
  {
   "cell_type": "code",
   "execution_count": 8,
   "id": "eb3958f0-b491-4158-bcb3-83dbcd5b5663",
   "metadata": {},
   "outputs": [],
   "source": [
    "LOP_NORTH_AREA = 4400\n",
    "LOP_SOUTH_DECAL_AREA = 8500\n",
    "LOP_SOUTH_DES_AREA = 1100\n",
    "TOTAL_DESI_AREA = 14000\n",
    "DESI_ELG_ZBIN_WIDTH = 0.05\n",
    "Z_GRID_POINTS = 1001\n",
    "AREA_PER_HEALPIX = 57.071968/17 # Area of 17 healpix divided by 17\n",
    "SELECTION_ZBIN_WIDTH = 0.001\n",
    "ELG_TARG_DENS_AVG = (1930 + 1950 + 1900) / 3\n",
    "LOP_ELG_MAG_CUTOFF = 26\n",
    "NUM_POINTS = int(ELG_TARG_DENS_AVG * AREA_PER_HEALPIX * 40) # overkill to make sure we have more than enough points\n",
    "NUM_TO_KEEP = int(ELG_TARG_DENS_AVG * AREA_PER_HEALPIX * 10) # number of objects to keep for randoms\n",
    "DIST_WITHIN_SIM = 1/2 # arcmin"
   ]
  },
  {
   "cell_type": "code",
   "execution_count": 23,
   "id": "f4c038bf-b832-4f19-8b12-6a6b60960376",
   "metadata": {},
   "outputs": [],
   "source": [
    "# load in the desi ELG distributions \n",
    "path_desi_data = '/Users/yokisalcedo/Desktop/desi_selector/data/desi_data/desi_elg_ts_zenodo/main-800coaddefftime1200-nz-zenodo.ecsv'\n",
    "desi_data = table.Table.read(path_desi_data, format='ascii.ecsv')\n",
    "desi_data.colnames\n",
    "zmin = desi_data['ZMIN']\n",
    "zmax = desi_data['ZMAX']\n",
    "\n",
    "lop_north = desi_data['ELG_LOP_NORTH']\n",
    "lop_south_decal = desi_data['ELG_LOP_SOUTH_DECALS']\n",
    "lop_south_des = desi_data['ELG_LOP_SOUTH_DES']\n",
    "vlo_north = desi_data['ELG_VLO_NORTH']\n",
    "vlo_south_decal = desi_data['ELG_VLO_SOUTH_DECALS']\n",
    "vlo_south_des = desi_data['ELG_VLO_SOUTH_DES']\n",
    "\n",
    "lop_desi = desi_data['ELG_LOP_DESI']\n",
    "vlo_desi = desi_data['ELG_VLO_DESI']\n",
    "weightedavg = (lop_north * LOP_NORTH_AREA + lop_south_decal * LOP_SOUTH_DECAL_AREA  + lop_south_des * LOP_SOUTH_DES_AREA  )/(TOTAL_DESI_AREA)\n",
    "\n",
    "z_bin_centers = (zmin + zmax ) / 2 \n",
    "n_of_z = interpolate.interp1d(z_bin_centers, weightedavg / DESI_ELG_ZBIN_WIDTH,  fill_value=0, bounds_error=False) # function to interpolate over\n",
    "zgrid = np.linspace(np.min(zmin), np.max(zmax), Z_GRID_POINTS )\n"
   ]
  },
  {
   "cell_type": "code",
   "execution_count": 18,
   "id": "c2f5917a",
   "metadata": {},
   "outputs": [
    {
     "name": "stdout",
     "output_type": "stream",
     "text": [
      "[0.    0.002 0.004 ... 1.996 1.998 2.   ]\n"
     ]
    }
   ],
   "source": [
    "print(zgrid)"
   ]
  },
  {
   "cell_type": "code",
   "execution_count": 24,
   "id": "c4506bd9-6062-415a-8f8c-8fdc8d693c47",
   "metadata": {},
   "outputs": [],
   "source": [
    "def save_mock_elg_sample(healpix_id=None, area_per_healpix=AREA_PER_HEALPIX):\n",
    "    # print(f'{worker_index} is processing {healpix_id}')\n",
    "    \n",
    "    \n",
    "    filepath = '/Users/yokisalcedo/Desktop/desi_selector/data/healpix_files'\n",
    "    h5_filename = f'/z_0_1.step_all.healpix_{healpix_id}.hdf5' # assuming all healpix files have same root file name\n",
    "    h5f = filepath + h5_filename\n",
    "    \n",
    "    \n",
    "    with h5py.File(h5f, 'r') as file:\n",
    "         \n",
    "            \n",
    "        properties = file['galaxyProperties']\n",
    "        redshift = np.array(properties['redshift'])\n",
    "        r = cosmo.comoving_distance(redshift).value # units of Mpc\n",
    "        sfr = np.array(properties['baseDC2']['sfr'])\n",
    "        sfr_tot = np.array(properties['totalStarFormationRate'])\n",
    "        stellar_mass = np.array(properties['totalMassStellar'])\n",
    "        blackhole_mass = np.array(properties['blackHoleMass'])\n",
    "        gal_id = np.array(properties['galaxyID'])\n",
    "        mag_u = np.array(properties['LSST_filters']['magnitude:LSST_u:observed:dustAtlas']) # mags with no MW extinction corrections\n",
    "        mag_g = np.array(properties['LSST_filters']['magnitude:LSST_g:observed:dustAtlas'])\n",
    "        mag_r = np.array(properties['LSST_filters']['magnitude:LSST_r:observed:dustAtlas'])\n",
    "        mag_i = np.array(properties['LSST_filters']['magnitude:LSST_i:observed:dustAtlas'])\n",
    "        mag_z = np.array(properties['LSST_filters']['magnitude:LSST_z:observed:dustAtlas'])\n",
    "        mag_y = np.array(properties['LSST_filters']['magnitude:LSST_y:observed:dustAtlas'])\n",
    "        redshift_hubble = np.array(properties['redshiftHubble'])\n",
    "        ra = np.array(properties['ra'])\n",
    "        dec = np.array(properties['dec'])\n",
    "        ra_true = np.array(properties['ra_true'])\n",
    "        dec_true = np.array(properties['dec_true'])\n",
    "\n",
    "\n",
    "        array_list = np.column_stack([redshift, r, sfr, sfr_tot, stellar_mass, blackhole_mass, gal_id, mag_u,\n",
    "                                      mag_g, mag_r, mag_i, mag_z, mag_y,\n",
    "                                      redshift_hubble, ra, dec, ra_true, dec_true])\n",
    "\n",
    "        sim_cat = pd.DataFrame(array_list, columns=['redshift', 'r', 'sfr','sfr_tot','stellar_mass', 'blackhole_mass','gal_id', 'mag_u',\n",
    "                                      'mag_g', 'mag_r', 'mag_i', 'mag_z', 'mag_y',\n",
    "                                      'redshift_hubble', 'ra', 'dec', 'ra_true', 'dec_true'])\n",
    "        print(f'the number of galaxies in this cat is {len(sim_cat)}')\n",
    "        \n",
    "        RA_MIN = np.min(ra)\n",
    "        RA_MAX = np.max(ra)\n",
    "        \n",
    "        rand_ra = RA_MIN + (RA_MAX - RA_MIN)*np.random.random(size=NUM_POINTS)\n",
    "        cth_min = np.min(np.sin(np.radians(sim_cat['dec'])))\n",
    "        cth_max = np.max(np.sin(np.radians(sim_cat['dec'])))\n",
    "        cth_rand = cth_min + (cth_max - cth_min)*np.random.random(size=NUM_POINTS)\n",
    "        rand_dec = np.degrees(np.arcsin(cth_rand))\n",
    "        \n",
    "        rand_coord = SkyCoord(rand_ra, rand_dec, unit=u.degree)\n",
    "        sim_coord = SkyCoord(sim_cat['ra'], sim_cat['dec'], unit=u.degree)\n",
    "        idx, d2d, d3d = rand_coord.match_to_catalog_sky(sim_coord)\n",
    "        dmask = d2d.arcmin < DIST_WITHIN_SIM\n",
    "        print(f'The number of galaxies that pass dmask is {dmask.sum()}')\n",
    "        \n",
    "        rand_cols_list = np.column_stack([rand_ra[dmask], rand_dec[dmask]])\n",
    "        rand_cat = pd.DataFrame(rand_cols_list, columns=['ra', 'dec'])\n",
    "        \n",
    "\n",
    "        sim_cat_gmag_mask = sim_cat['mag_g'] < LOP_ELG_MAG_CUTOFF\n",
    "        sim_cat_masked = sim_cat[sim_cat_gmag_mask]\n",
    "        \n",
    "        \n",
    "        highest_sfr_gals = []\n",
    "    \n",
    "        for zbin_id in range(Z_GRID_POINTS - 1):\n",
    "    \n",
    "            zbin_min = zgrid[zbin_id]\n",
    "            zbin_max = zgrid[zbin_id + 1]\n",
    "            zbin_mid = (zbin_min + zbin_max) / 2\n",
    "            z_mask = np.logical_and(sim_cat_masked['redshift'] > zbin_min, sim_cat_masked['redshift'] < zbin_max)\n",
    "\n",
    "            n_selected = int(n_of_z(zbin_mid) * area_per_healpix * SELECTION_ZBIN_WIDTH)\n",
    "            top_n_gals = sim_cat_masked[z_mask].nlargest(n_selected, 'sfr_tot')\n",
    "            highest_sfr_gals.append(top_n_gals)\n",
    "\n",
    "        \n",
    "        mock_elg_cat = pd.concat(highest_sfr_gals)\n",
    "        mock_elg_cat.reset_index(drop=True, inplace=True)\n",
    "\n",
    "        # add redshifts (or r) to the random catalog for measuring 3D clustering\n",
    "        rand_cat['r'] = np.random.choice(mock_elg_cat['r'], size=len(rand_cat))\n",
    "        \n",
    "        # mask the random cat to have around ten times as many objects as the mock elg cat\n",
    "        rand_cat_final = rand_cat.iloc[:NUM_TO_KEEP]\n",
    "\n",
    "\n",
    "        rand_output_file_name = f'rand_elg_cat_hpix_{healpix_id}'\n",
    "        rand_output = f'{rand_output_file_name}.parquet'\n",
    "        rand_cat_path = f'/Users/yokisalcedo/Desktop/desi_selector/data/mock_elgs/mock_elgs_rands_per_pix/{rand_output}'\n",
    "        rand_cat_final.to_parquet(rand_cat_path)\n",
    "        \n",
    "        output_file_name = f'mock_elg_cat_hpix_{healpix_id}'\n",
    "        output = f'{output_file_name}.parquet'\n",
    "        mock_elg_cat_path = f'/Users/yokisalcedo/Desktop/desi_selector/data/mock_elgs/mock_elgs_per_pix/{output}'\n",
    "        mock_elg_cat.to_parquet(mock_elg_cat_path)"
   ]
  },
  {
   "cell_type": "code",
   "execution_count": 25,
   "id": "8d47c36b-a1bd-4274-ae2c-e93b284c1b19",
   "metadata": {},
   "outputs": [
    {
     "name": "stdout",
     "output_type": "stream",
     "text": [
      "the number of galaxies in this cat is 868667\n",
      "The number of galaxies that pass dmask is 128057\n"
     ]
    },
    {
     "ename": "ImportError",
     "evalue": "Unable to find a usable engine; tried using: 'pyarrow', 'fastparquet'.\nA suitable version of pyarrow or fastparquet is required for parquet support.\nTrying to import the above resulted in these errors:\n - Missing optional dependency 'pyarrow'. pyarrow is required for parquet support. Use pip or conda to install pyarrow.\n - Missing optional dependency 'fastparquet'. fastparquet is required for parquet support. Use pip or conda to install fastparquet.",
     "output_type": "error",
     "traceback": [
      "\u001b[0;31m---------------------------------------------------------------------------\u001b[0m",
      "\u001b[0;31mImportError\u001b[0m                               Traceback (most recent call last)",
      "\u001b[0;32m/var/folders/51/cby91ynj1c7cb99_1tbzlsym0000gn/T/ipykernel_3797/2868975423.py\u001b[0m in \u001b[0;36m<module>\u001b[0;34m\u001b[0m\n\u001b[1;32m      1\u001b[0m \u001b[0mhpix_ids\u001b[0m \u001b[0;34m=\u001b[0m \u001b[0;34m[\u001b[0m\u001b[0;36m9030\u001b[0m\u001b[0;34m,\u001b[0m \u001b[0;36m9031\u001b[0m\u001b[0;34m]\u001b[0m\u001b[0;34m\u001b[0m\u001b[0;34m\u001b[0m\u001b[0m\n\u001b[1;32m      2\u001b[0m \u001b[0;34m\u001b[0m\u001b[0m\n\u001b[0;32m----> 3\u001b[0;31m \u001b[0msave_mock_elg_sample\u001b[0m\u001b[0;34m(\u001b[0m\u001b[0mhealpix_id\u001b[0m\u001b[0;34m=\u001b[0m\u001b[0mhpix_ids\u001b[0m\u001b[0;34m[\u001b[0m\u001b[0;36m0\u001b[0m\u001b[0;34m]\u001b[0m\u001b[0;34m)\u001b[0m\u001b[0;34m\u001b[0m\u001b[0;34m\u001b[0m\u001b[0m\n\u001b[0m\u001b[1;32m      4\u001b[0m \u001b[0;34m\u001b[0m\u001b[0m\n\u001b[1;32m      5\u001b[0m \u001b[0;34m\u001b[0m\u001b[0m\n",
      "\u001b[0;32m/var/folders/51/cby91ynj1c7cb99_1tbzlsym0000gn/T/ipykernel_3797/4033266327.py\u001b[0m in \u001b[0;36msave_mock_elg_sample\u001b[0;34m(healpix_id, area_per_healpix)\u001b[0m\n\u001b[1;32m     91\u001b[0m         \u001b[0mrand_output\u001b[0m \u001b[0;34m=\u001b[0m \u001b[0;34mf'{rand_output_file_name}.parquet'\u001b[0m\u001b[0;34m\u001b[0m\u001b[0;34m\u001b[0m\u001b[0m\n\u001b[1;32m     92\u001b[0m         \u001b[0mrand_cat_path\u001b[0m \u001b[0;34m=\u001b[0m \u001b[0;34mf'/Users/yokisalcedo/Desktop/desi_selector/data/mock_elgs/mock_elgs_rands_per_pix/{rand_output}'\u001b[0m\u001b[0;34m\u001b[0m\u001b[0;34m\u001b[0m\u001b[0m\n\u001b[0;32m---> 93\u001b[0;31m         \u001b[0mrand_cat_final\u001b[0m\u001b[0;34m.\u001b[0m\u001b[0mto_parquet\u001b[0m\u001b[0;34m(\u001b[0m\u001b[0mrand_cat_path\u001b[0m\u001b[0;34m)\u001b[0m\u001b[0;34m\u001b[0m\u001b[0;34m\u001b[0m\u001b[0m\n\u001b[0m\u001b[1;32m     94\u001b[0m \u001b[0;34m\u001b[0m\u001b[0m\n\u001b[1;32m     95\u001b[0m         \u001b[0moutput_file_name\u001b[0m \u001b[0;34m=\u001b[0m \u001b[0;34mf'mock_elg_cat_hpix_{healpix_id}'\u001b[0m\u001b[0;34m\u001b[0m\u001b[0;34m\u001b[0m\u001b[0m\n",
      "\u001b[0;32m/opt/anaconda3/lib/python3.8/site-packages/pandas/util/_decorators.py\u001b[0m in \u001b[0;36mwrapper\u001b[0;34m(*args, **kwargs)\u001b[0m\n\u001b[1;32m    205\u001b[0m                 \u001b[0;32melse\u001b[0m\u001b[0;34m:\u001b[0m\u001b[0;34m\u001b[0m\u001b[0;34m\u001b[0m\u001b[0m\n\u001b[1;32m    206\u001b[0m                     \u001b[0mkwargs\u001b[0m\u001b[0;34m[\u001b[0m\u001b[0mnew_arg_name\u001b[0m\u001b[0;34m]\u001b[0m \u001b[0;34m=\u001b[0m \u001b[0mnew_arg_value\u001b[0m\u001b[0;34m\u001b[0m\u001b[0;34m\u001b[0m\u001b[0m\n\u001b[0;32m--> 207\u001b[0;31m             \u001b[0;32mreturn\u001b[0m \u001b[0mfunc\u001b[0m\u001b[0;34m(\u001b[0m\u001b[0;34m*\u001b[0m\u001b[0margs\u001b[0m\u001b[0;34m,\u001b[0m \u001b[0;34m**\u001b[0m\u001b[0mkwargs\u001b[0m\u001b[0;34m)\u001b[0m\u001b[0;34m\u001b[0m\u001b[0;34m\u001b[0m\u001b[0m\n\u001b[0m\u001b[1;32m    208\u001b[0m \u001b[0;34m\u001b[0m\u001b[0m\n\u001b[1;32m    209\u001b[0m         \u001b[0;32mreturn\u001b[0m \u001b[0mcast\u001b[0m\u001b[0;34m(\u001b[0m\u001b[0mF\u001b[0m\u001b[0;34m,\u001b[0m \u001b[0mwrapper\u001b[0m\u001b[0;34m)\u001b[0m\u001b[0;34m\u001b[0m\u001b[0;34m\u001b[0m\u001b[0m\n",
      "\u001b[0;32m/opt/anaconda3/lib/python3.8/site-packages/pandas/core/frame.py\u001b[0m in \u001b[0;36mto_parquet\u001b[0;34m(self, path, engine, compression, index, partition_cols, storage_options, **kwargs)\u001b[0m\n\u001b[1;32m   2833\u001b[0m         \u001b[0;32mfrom\u001b[0m \u001b[0mpandas\u001b[0m\u001b[0;34m.\u001b[0m\u001b[0mio\u001b[0m\u001b[0;34m.\u001b[0m\u001b[0mparquet\u001b[0m \u001b[0;32mimport\u001b[0m \u001b[0mto_parquet\u001b[0m\u001b[0;34m\u001b[0m\u001b[0;34m\u001b[0m\u001b[0m\n\u001b[1;32m   2834\u001b[0m \u001b[0;34m\u001b[0m\u001b[0m\n\u001b[0;32m-> 2835\u001b[0;31m         return to_parquet(\n\u001b[0m\u001b[1;32m   2836\u001b[0m             \u001b[0mself\u001b[0m\u001b[0;34m,\u001b[0m\u001b[0;34m\u001b[0m\u001b[0;34m\u001b[0m\u001b[0m\n\u001b[1;32m   2837\u001b[0m             \u001b[0mpath\u001b[0m\u001b[0;34m,\u001b[0m\u001b[0;34m\u001b[0m\u001b[0;34m\u001b[0m\u001b[0m\n",
      "\u001b[0;32m/opt/anaconda3/lib/python3.8/site-packages/pandas/io/parquet.py\u001b[0m in \u001b[0;36mto_parquet\u001b[0;34m(df, path, engine, compression, index, storage_options, partition_cols, **kwargs)\u001b[0m\n\u001b[1;32m    414\u001b[0m     \u001b[0;32mif\u001b[0m \u001b[0misinstance\u001b[0m\u001b[0;34m(\u001b[0m\u001b[0mpartition_cols\u001b[0m\u001b[0;34m,\u001b[0m \u001b[0mstr\u001b[0m\u001b[0;34m)\u001b[0m\u001b[0;34m:\u001b[0m\u001b[0;34m\u001b[0m\u001b[0;34m\u001b[0m\u001b[0m\n\u001b[1;32m    415\u001b[0m         \u001b[0mpartition_cols\u001b[0m \u001b[0;34m=\u001b[0m \u001b[0;34m[\u001b[0m\u001b[0mpartition_cols\u001b[0m\u001b[0;34m]\u001b[0m\u001b[0;34m\u001b[0m\u001b[0;34m\u001b[0m\u001b[0m\n\u001b[0;32m--> 416\u001b[0;31m     \u001b[0mimpl\u001b[0m \u001b[0;34m=\u001b[0m \u001b[0mget_engine\u001b[0m\u001b[0;34m(\u001b[0m\u001b[0mengine\u001b[0m\u001b[0;34m)\u001b[0m\u001b[0;34m\u001b[0m\u001b[0;34m\u001b[0m\u001b[0m\n\u001b[0m\u001b[1;32m    417\u001b[0m \u001b[0;34m\u001b[0m\u001b[0m\n\u001b[1;32m    418\u001b[0m     \u001b[0mpath_or_buf\u001b[0m\u001b[0;34m:\u001b[0m \u001b[0mFilePath\u001b[0m \u001b[0;34m|\u001b[0m \u001b[0mWriteBuffer\u001b[0m\u001b[0;34m[\u001b[0m\u001b[0mbytes\u001b[0m\u001b[0;34m]\u001b[0m \u001b[0;34m=\u001b[0m \u001b[0mio\u001b[0m\u001b[0;34m.\u001b[0m\u001b[0mBytesIO\u001b[0m\u001b[0;34m(\u001b[0m\u001b[0;34m)\u001b[0m \u001b[0;32mif\u001b[0m \u001b[0mpath\u001b[0m \u001b[0;32mis\u001b[0m \u001b[0;32mNone\u001b[0m \u001b[0;32melse\u001b[0m \u001b[0mpath\u001b[0m\u001b[0;34m\u001b[0m\u001b[0;34m\u001b[0m\u001b[0m\n",
      "\u001b[0;32m/opt/anaconda3/lib/python3.8/site-packages/pandas/io/parquet.py\u001b[0m in \u001b[0;36mget_engine\u001b[0;34m(engine)\u001b[0m\n\u001b[1;32m     50\u001b[0m                 \u001b[0merror_msgs\u001b[0m \u001b[0;34m+=\u001b[0m \u001b[0;34m\"\\n - \"\u001b[0m \u001b[0;34m+\u001b[0m \u001b[0mstr\u001b[0m\u001b[0;34m(\u001b[0m\u001b[0merr\u001b[0m\u001b[0;34m)\u001b[0m\u001b[0;34m\u001b[0m\u001b[0;34m\u001b[0m\u001b[0m\n\u001b[1;32m     51\u001b[0m \u001b[0;34m\u001b[0m\u001b[0m\n\u001b[0;32m---> 52\u001b[0;31m         raise ImportError(\n\u001b[0m\u001b[1;32m     53\u001b[0m             \u001b[0;34m\"Unable to find a usable engine; \"\u001b[0m\u001b[0;34m\u001b[0m\u001b[0;34m\u001b[0m\u001b[0m\n\u001b[1;32m     54\u001b[0m             \u001b[0;34m\"tried using: 'pyarrow', 'fastparquet'.\\n\"\u001b[0m\u001b[0;34m\u001b[0m\u001b[0;34m\u001b[0m\u001b[0m\n",
      "\u001b[0;31mImportError\u001b[0m: Unable to find a usable engine; tried using: 'pyarrow', 'fastparquet'.\nA suitable version of pyarrow or fastparquet is required for parquet support.\nTrying to import the above resulted in these errors:\n - Missing optional dependency 'pyarrow'. pyarrow is required for parquet support. Use pip or conda to install pyarrow.\n - Missing optional dependency 'fastparquet'. fastparquet is required for parquet support. Use pip or conda to install fastparquet."
     ]
    }
   ],
   "source": [
    "hpix_ids = [9030, 9031]\n",
    "\n",
    "save_mock_elg_sample(healpix_id=hpix_ids[0])\n",
    "    \n",
    "\n"
   ]
  },
  {
   "cell_type": "code",
   "execution_count": 26,
   "id": "6770c5c4",
   "metadata": {},
   "outputs": [
    {
     "data": {
      "text/plain": [
       "'1.4.4'"
      ]
     },
     "execution_count": 26,
     "metadata": {},
     "output_type": "execute_result"
    }
   ],
   "source": [
    "pd.__version__"
   ]
  },
  {
   "cell_type": "code",
   "execution_count": 19,
   "id": "fe245e49-eb0b-4562-b80e-c60286ffc8fd",
   "metadata": {},
   "outputs": [],
   "source": [
    "n_of_z = interpolate.interp1d(z_bin_centers, weightedavg / DESI_ELG_ZBIN_WIDTH, fill_value=0, bounds_error=False) # function to interpolate over"
   ]
  },
  {
   "cell_type": "code",
   "execution_count": 22,
   "id": "1632ab59",
   "metadata": {},
   "outputs": [
    {
     "data": {
      "text/plain": [
       "array(30.83842885)"
      ]
     },
     "execution_count": 22,
     "metadata": {},
     "output_type": "execute_result"
    }
   ],
   "source": [
    "n_of_z(0.025)"
   ]
  },
  {
   "cell_type": "code",
   "execution_count": null,
   "id": "461d4c21",
   "metadata": {},
   "outputs": [],
   "source": []
  }
 ],
 "metadata": {
  "kernelspec": {
   "display_name": "base",
   "language": "python",
   "name": "python3"
  },
  "language_info": {
   "codemirror_mode": {
    "name": "ipython",
    "version": 3
   },
   "file_extension": ".py",
   "mimetype": "text/x-python",
   "name": "python",
   "nbconvert_exporter": "python",
   "pygments_lexer": "ipython3",
   "version": "3.8.15"
  }
 },
 "nbformat": 4,
 "nbformat_minor": 5
}
