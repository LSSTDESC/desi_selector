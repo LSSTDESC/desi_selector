{
 "cells": [
  {
   "cell_type": "code",
   "execution_count": 1,
   "id": "b61c3f58-3d02-493b-81d1-5ffa6a0957be",
   "metadata": {
    "tags": []
   },
   "outputs": [],
   "source": [
    "import numpy as np\n",
    "import pandas as pd\n",
    "# from astropy.table import Table\n",
    "from astropy import table\n",
    "from pathlib import Path\n",
    "import os\n",
    "import matplotlib.pyplot as plt\n",
    "# import pickle\n",
    "from scipy import interpolate\n",
    "import treecorr as tc\n",
    "\n",
    "# from astropy.io.misc.hdf5 import read_table_hdf5\n",
    "# from astropy.io.misc.hdf5 import write_table_hdf5"
   ]
  },
  {
   "cell_type": "code",
   "execution_count": 2,
   "id": "3b238777-3cb4-4fe0-893c-12cfc7297f8b",
   "metadata": {
    "tags": []
   },
   "outputs": [],
   "source": [
    "sim_cat_path = Path('../data/sim_data/skysim5000_small.fits')\n",
    "sim_cat = table.Table.read(sim_cat_path, format='fits', hdu=1)\n",
    "sim_cat = sim_cat.to_pandas()\n",
    "\n",
    "lop_elg_gmag_cutoff = 26\n",
    "sim_cat_gmag_mask = sim_cat['mag_g_lsst'] < lop_elg_gmag_cutoff\n",
    "sim_cat = sim_cat[sim_cat_gmag_mask]\n",
    "\n"
   ]
  },
  {
   "cell_type": "code",
   "execution_count": 8,
   "id": "040371d6-5291-4069-b2bb-ca2559df546f",
   "metadata": {
    "tags": []
   },
   "outputs": [],
   "source": [
    "# load in the desi ELG distributions \n",
    "path_desi_data = Path('../data/desi_sv_data/desi_elg_ts_zenodo/main-800coaddefftime1200-nz-zenodo.ecsv')\n",
    "desi_data = table.Table.read(path_desi_data, format='ascii.ecsv')\n",
    "desi_data.colnames\n",
    "zmin = desi_data['ZMIN']\n",
    "zmax = desi_data['ZMAX']\n",
    "\n",
    "lop_north = desi_data['ELG_LOP_NORTH']\n",
    "lop_south_decal = desi_data['ELG_LOP_SOUTH_DECALS']\n",
    "lop_south_des = desi_data['ELG_LOP_SOUTH_DES']\n",
    "vlo_north = desi_data['ELG_VLO_NORTH']\n",
    "vlo_south_decal = desi_data['ELG_VLO_SOUTH_DECALS']\n",
    "vlo_south_des = desi_data['ELG_VLO_SOUTH_DES']\n",
    "\n",
    "lop_desi = desi_data['ELG_LOP_DESI']\n",
    "vlo_desi = desi_data['ELG_VLO_DESI']\n",
    "weightedavg = (lop_north * 4400 + lop_south_decal * 8500 + lop_south_des * 1100 )/(14000)\n",
    "\n",
    "\n",
    "#values, edges = np.histogram(spectro_z[ccuts], bins=np.linspace(0, 2, 41))"
   ]
  },
  {
   "cell_type": "markdown",
   "id": "361f524d-d626-49e7-97be-715f9fc91b27",
   "metadata": {},
   "source": [
    "## We will want to create an interpolator from the zenodo tables (e.g. with scipy.interpolate.interp1d ) that can give (number in a delta-z = 0.001 bin or something like that) per square degree.  Call that N(z).\n",
    "\n",
    "## We then want to take the skysim catalogs, loop over all the tiny z bins,  and determine the top ( N(z) * catalog area) objects in stellar mass or SFR in each z bin; we add those to our mock DESI sample."
   ]
  },
  {
   "cell_type": "code",
   "execution_count": 4,
   "id": "d95984e8-6278-412f-800e-832d0bed9d64",
   "metadata": {
    "tags": []
   },
   "outputs": [],
   "source": [
    "ra = sim_cat['ra']\n",
    "dec = sim_cat['dec']\n",
    "stellar_mass_tot = sim_cat['totalMassStellar']\n",
    "star_formation_tot = sim_cat['totalStarFormationRate']\n",
    "redshift = sim_cat['redshift']\n"
   ]
  },
  {
   "cell_type": "code",
   "execution_count": 5,
   "id": "e974b597-e036-4cbf-83a1-778646eb5c2d",
   "metadata": {
    "tags": []
   },
   "outputs": [
    {
     "data": {
      "text/plain": [
       "<matplotlib.collections.PathCollection at 0x7fcc9f222dd0>"
      ]
     },
     "execution_count": 5,
     "metadata": {},
     "output_type": "execute_result"
    },
    {
     "data": {
      "image/png": "[encoded data removed]",
      "text/plain": [
       "<Figure size 640x480 with 1 Axes>"
      ]
     },
     "metadata": {},
     "output_type": "display_data"
    }
   ],
   "source": [
    "plt.scatter(ra, dec)"
   ]
  },
  {
   "cell_type": "code",
   "execution_count": 6,
   "id": "94d9e58e-9d35-478f-a4b6-8f52c54aa9d0",
   "metadata": {
    "tags": []
   },
   "outputs": [],
   "source": [
    "z_bins = np.linspace(np.min(zmin), np.max(zmax), len(weightedavg))\n",
    "n_of_z = interpolate.interp1d(z_bins, weightedavg/0.05)\n",
    "\n",
    "sim_area = 57.071968\n",
    "zgrid = np.linspace(np.min(zmin), np.max(zmax), 1001)"
   ]
  },
  {
   "cell_type": "code",
   "execution_count": 8,
   "id": "ba2ae648-45eb-4cfa-9aae-49aeebb2e328",
   "metadata": {
    "tags": []
   },
   "outputs": [
    {
     "name": "stdout",
     "output_type": "stream",
     "text": [
      "3.357174588235294\n"
     ]
    }
   ],
   "source": [
    "area_per_healpix = sim_area  / 17\n",
    "print(area_per_healpix)"
   ]
  },
  {
   "cell_type": "code",
   "execution_count": 7,
   "id": "74d732c0-842a-4c42-a145-401818aedee1",
   "metadata": {
    "tags": []
   },
   "outputs": [],
   "source": [
    "\n",
    "highest_sfr_gals = []\n",
    "\n",
    "for zbin_id in range(1000):\n",
    "    \n",
    "    zbin_min = zgrid[zbin_id]\n",
    "    zbin_max = zgrid[zbin_id + 1]\n",
    "    zbin_mid = (zbin_min + zbin_max) / 2\n",
    "    z_mask = np.logical_and(sim_cat['redshift'] > zbin_min, sim_cat['redshift'] < zbin_max)\n",
    "    \n",
    "    n_selected = int(n_of_z(zbin_mid) * sim_area * 0.001)\n",
    "    top_n_gals = sim_cat[z_mask].nlargest(n_selected, 'totalStarFormationRate')\n",
    "    highest_sfr_gals.append(top_n_gals)\n",
    "\n",
    "\n",
    "mock_elg_cat = pd.concat(highest_sfr_gals)\n",
    "mock_elg_cat.reset_index(drop=True, inplace=True)\n",
    "\n"
   ]
  },
  {
   "cell_type": "code",
   "execution_count": 10,
   "id": "b26f1d08-9735-43ff-b24c-3841d21aad31",
   "metadata": {
    "tags": []
   },
   "outputs": [
    {
     "data": {
      "text/html": [
       "<div>\n",
       "<style scoped>\n",
       "    .dataframe tbody tr th:only-of-type {\n",
       "        vertical-align: middle;\n",
       "    }\n",
       "\n",
       "    .dataframe tbody tr th {\n",
       "        vertical-align: top;\n",
       "    }\n",
       "\n",
       "    .dataframe thead th {\n",
       "        text-align: right;\n",
       "    }\n",
       "</style>\n",
       "<table border=\"1\" class=\"dataframe\">\n",
       "  <thead>\n",
       "    <tr style=\"text-align: right;\">\n",
       "      <th></th>\n",
       "      <th>galaxy_id</th>\n",
       "      <th>ra</th>\n",
       "      <th>dec</th>\n",
       "      <th>redshift</th>\n",
       "      <th>totalMassStellar</th>\n",
       "      <th>totalStarFormationRate</th>\n",
       "      <th>mag_u_lsst</th>\n",
       "      <th>mag_true_u_lsst</th>\n",
       "      <th>mag_g_lsst</th>\n",
       "      <th>mag_true_g_lsst</th>\n",
       "      <th>mag_r_lsst</th>\n",
       "      <th>mag_true_r_lsst</th>\n",
       "      <th>mag_i_lsst</th>\n",
       "      <th>mag_true_i_lsst</th>\n",
       "      <th>mag_z_lsst</th>\n",
       "      <th>mag_true_z_lsst</th>\n",
       "      <th>mag_y_lsst</th>\n",
       "      <th>mag_true_y_lsst</th>\n",
       "    </tr>\n",
       "  </thead>\n",
       "  <tbody>\n",
       "    <tr>\n",
       "      <th>0</th>\n",
       "      <td>9687500013</td>\n",
       "      <td>61.945577</td>\n",
       "      <td>-39.925261</td>\n",
       "      <td>0.000889</td>\n",
       "      <td>3.681861e+07</td>\n",
       "      <td>6.118182e+04</td>\n",
       "      <td>13.981125</td>\n",
       "      <td>13.981125</td>\n",
       "      <td>12.978162</td>\n",
       "      <td>12.978162</td>\n",
       "      <td>12.657366</td>\n",
       "      <td>12.657366</td>\n",
       "      <td>12.498678</td>\n",
       "      <td>12.498678</td>\n",
       "      <td>12.448563</td>\n",
       "      <td>12.448563</td>\n",
       "      <td>12.411469</td>\n",
       "      <td>12.411469</td>\n",
       "    </tr>\n",
       "    <tr>\n",
       "      <th>1</th>\n",
       "      <td>9687500051</td>\n",
       "      <td>62.283081</td>\n",
       "      <td>-39.129986</td>\n",
       "      <td>0.004087</td>\n",
       "      <td>1.168945e+07</td>\n",
       "      <td>5.311205e+06</td>\n",
       "      <td>17.397350</td>\n",
       "      <td>17.397350</td>\n",
       "      <td>16.605034</td>\n",
       "      <td>16.605034</td>\n",
       "      <td>16.335648</td>\n",
       "      <td>16.335648</td>\n",
       "      <td>16.193966</td>\n",
       "      <td>16.193966</td>\n",
       "      <td>16.135296</td>\n",
       "      <td>16.135296</td>\n",
       "      <td>16.098845</td>\n",
       "      <td>16.098845</td>\n",
       "    </tr>\n",
       "    <tr>\n",
       "      <th>2</th>\n",
       "      <td>9687500027</td>\n",
       "      <td>62.967231</td>\n",
       "      <td>-40.501830</td>\n",
       "      <td>0.005378</td>\n",
       "      <td>3.233578e+05</td>\n",
       "      <td>2.472839e+04</td>\n",
       "      <td>21.378338</td>\n",
       "      <td>21.378338</td>\n",
       "      <td>20.311071</td>\n",
       "      <td>20.311071</td>\n",
       "      <td>19.850924</td>\n",
       "      <td>19.850924</td>\n",
       "      <td>19.622835</td>\n",
       "      <td>19.622835</td>\n",
       "      <td>19.530537</td>\n",
       "      <td>19.530537</td>\n",
       "      <td>19.493130</td>\n",
       "      <td>19.493130</td>\n",
       "    </tr>\n",
       "    <tr>\n",
       "      <th>3</th>\n",
       "      <td>10625000001</td>\n",
       "      <td>68.766457</td>\n",
       "      <td>-42.661863</td>\n",
       "      <td>0.007820</td>\n",
       "      <td>1.580612e+07</td>\n",
       "      <td>5.539425e+06</td>\n",
       "      <td>18.857691</td>\n",
       "      <td>18.857691</td>\n",
       "      <td>17.894493</td>\n",
       "      <td>17.894493</td>\n",
       "      <td>17.470552</td>\n",
       "      <td>17.470552</td>\n",
       "      <td>17.231880</td>\n",
       "      <td>17.231880</td>\n",
       "      <td>17.115093</td>\n",
       "      <td>17.115093</td>\n",
       "      <td>17.046360</td>\n",
       "      <td>17.046360</td>\n",
       "    </tr>\n",
       "    <tr>\n",
       "      <th>4</th>\n",
       "      <td>9687500038</td>\n",
       "      <td>60.801980</td>\n",
       "      <td>-39.949702</td>\n",
       "      <td>0.007027</td>\n",
       "      <td>1.359459e+05</td>\n",
       "      <td>1.345415e+05</td>\n",
       "      <td>21.906116</td>\n",
       "      <td>21.906116</td>\n",
       "      <td>21.100359</td>\n",
       "      <td>21.100359</td>\n",
       "      <td>20.877777</td>\n",
       "      <td>20.877777</td>\n",
       "      <td>20.734236</td>\n",
       "      <td>20.734236</td>\n",
       "      <td>20.685278</td>\n",
       "      <td>20.685278</td>\n",
       "      <td>20.661362</td>\n",
       "      <td>20.661362</td>\n",
       "    </tr>\n",
       "    <tr>\n",
       "      <th>...</th>\n",
       "      <td>...</td>\n",
       "      <td>...</td>\n",
       "      <td>...</td>\n",
       "      <td>...</td>\n",
       "      <td>...</td>\n",
       "      <td>...</td>\n",
       "      <td>...</td>\n",
       "      <td>...</td>\n",
       "      <td>...</td>\n",
       "      <td>...</td>\n",
       "      <td>...</td>\n",
       "      <td>...</td>\n",
       "      <td>...</td>\n",
       "      <td>...</td>\n",
       "      <td>...</td>\n",
       "      <td>...</td>\n",
       "      <td>...</td>\n",
       "      <td>...</td>\n",
       "    </tr>\n",
       "    <tr>\n",
       "      <th>26483</th>\n",
       "      <td>7006947075</td>\n",
       "      <td>62.665308</td>\n",
       "      <td>-35.402441</td>\n",
       "      <td>1.680148</td>\n",
       "      <td>1.187738e+11</td>\n",
       "      <td>3.061023e+10</td>\n",
       "      <td>22.644436</td>\n",
       "      <td>22.669889</td>\n",
       "      <td>22.631226</td>\n",
       "      <td>22.656679</td>\n",
       "      <td>22.661179</td>\n",
       "      <td>22.686632</td>\n",
       "      <td>22.649493</td>\n",
       "      <td>22.674946</td>\n",
       "      <td>22.543755</td>\n",
       "      <td>22.569208</td>\n",
       "      <td>22.400735</td>\n",
       "      <td>22.426188</td>\n",
       "    </tr>\n",
       "    <tr>\n",
       "      <th>26484</th>\n",
       "      <td>7006930127</td>\n",
       "      <td>63.266771</td>\n",
       "      <td>-36.363350</td>\n",
       "      <td>1.680186</td>\n",
       "      <td>1.830841e+11</td>\n",
       "      <td>3.032949e+10</td>\n",
       "      <td>22.371482</td>\n",
       "      <td>22.420578</td>\n",
       "      <td>22.358025</td>\n",
       "      <td>22.407122</td>\n",
       "      <td>22.388119</td>\n",
       "      <td>22.437216</td>\n",
       "      <td>22.374528</td>\n",
       "      <td>22.423624</td>\n",
       "      <td>22.267712</td>\n",
       "      <td>22.316809</td>\n",
       "      <td>22.122098</td>\n",
       "      <td>22.171194</td>\n",
       "    </tr>\n",
       "    <tr>\n",
       "      <th>26485</th>\n",
       "      <td>11257025038</td>\n",
       "      <td>65.959445</td>\n",
       "      <td>-42.939789</td>\n",
       "      <td>1.682496</td>\n",
       "      <td>4.274934e+11</td>\n",
       "      <td>3.123058e+10</td>\n",
       "      <td>21.914428</td>\n",
       "      <td>21.864256</td>\n",
       "      <td>21.901758</td>\n",
       "      <td>21.851585</td>\n",
       "      <td>21.931400</td>\n",
       "      <td>21.881227</td>\n",
       "      <td>21.923831</td>\n",
       "      <td>21.873659</td>\n",
       "      <td>21.820440</td>\n",
       "      <td>21.770267</td>\n",
       "      <td>21.683090</td>\n",
       "      <td>21.632917</td>\n",
       "    </tr>\n",
       "    <tr>\n",
       "      <th>26486</th>\n",
       "      <td>7006951113</td>\n",
       "      <td>62.540695</td>\n",
       "      <td>-35.608475</td>\n",
       "      <td>1.684721</td>\n",
       "      <td>3.549389e+11</td>\n",
       "      <td>3.189673e+10</td>\n",
       "      <td>22.191194</td>\n",
       "      <td>22.185371</td>\n",
       "      <td>22.179078</td>\n",
       "      <td>22.173256</td>\n",
       "      <td>22.208398</td>\n",
       "      <td>22.202576</td>\n",
       "      <td>22.205123</td>\n",
       "      <td>22.199301</td>\n",
       "      <td>22.104186</td>\n",
       "      <td>22.098364</td>\n",
       "      <td>21.972821</td>\n",
       "      <td>21.966999</td>\n",
       "    </tr>\n",
       "    <tr>\n",
       "      <th>26487</th>\n",
       "      <td>9819446816</td>\n",
       "      <td>67.811522</td>\n",
       "      <td>-40.416913</td>\n",
       "      <td>1.687318</td>\n",
       "      <td>1.348051e+11</td>\n",
       "      <td>3.187259e+10</td>\n",
       "      <td>22.675720</td>\n",
       "      <td>22.617064</td>\n",
       "      <td>22.663584</td>\n",
       "      <td>22.604927</td>\n",
       "      <td>22.692917</td>\n",
       "      <td>22.634260</td>\n",
       "      <td>22.689487</td>\n",
       "      <td>22.630831</td>\n",
       "      <td>22.588461</td>\n",
       "      <td>22.529804</td>\n",
       "      <td>22.456882</td>\n",
       "      <td>22.398226</td>\n",
       "    </tr>\n",
       "  </tbody>\n",
       "</table>\n",
       "<p>26488 rows × 18 columns</p>\n",
       "</div>"
      ],
      "text/plain": [
       "         galaxy_id         ra        dec  redshift  totalMassStellar  \\\n",
       "0       9687500013  61.945577 -39.925261  0.000889      3.681861e+07   \n",
       "1       9687500051  62.283081 -39.129986  0.004087      1.168945e+07   \n",
       "2       9687500027  62.967231 -40.501830  0.005378      3.233578e+05   \n",
       "3      10625000001  68.766457 -42.661863  0.007820      1.580612e+07   \n",
       "4       9687500038  60.801980 -39.949702  0.007027      1.359459e+05   \n",
       "...            ...        ...        ...       ...               ...   \n",
       "26483   7006947075  62.665308 -35.402441  1.680148      1.187738e+11   \n",
       "26484   7006930127  63.266771 -36.363350  1.680186      1.830841e+11   \n",
       "26485  11257025038  65.959445 -42.939789  1.682496      4.274934e+11   \n",
       "26486   7006951113  62.540695 -35.608475  1.684721      3.549389e+11   \n",
       "26487   9819446816  67.811522 -40.416913  1.687318      1.348051e+11   \n",
       "\n",
       "       totalStarFormationRate  mag_u_lsst  mag_true_u_lsst  mag_g_lsst  \\\n",
       "0                6.118182e+04   13.981125        13.981125   12.978162   \n",
       "1                5.311205e+06   17.397350        17.397350   16.605034   \n",
       "2                2.472839e+04   21.378338        21.378338   20.311071   \n",
       "3                5.539425e+06   18.857691        18.857691   17.894493   \n",
       "4                1.345415e+05   21.906116        21.906116   21.100359   \n",
       "...                       ...         ...              ...         ...   \n",
       "26483            3.061023e+10   22.644436        22.669889   22.631226   \n",
       "26484            3.032949e+10   22.371482        22.420578   22.358025   \n",
       "26485            3.123058e+10   21.914428        21.864256   21.901758   \n",
       "26486            3.189673e+10   22.191194        22.185371   22.179078   \n",
       "26487            3.187259e+10   22.675720        22.617064   22.663584   \n",
       "\n",
       "       mag_true_g_lsst  mag_r_lsst  mag_true_r_lsst  mag_i_lsst  \\\n",
       "0            12.978162   12.657366        12.657366   12.498678   \n",
       "1            16.605034   16.335648        16.335648   16.193966   \n",
       "2            20.311071   19.850924        19.850924   19.622835   \n",
       "3            17.894493   17.470552        17.470552   17.231880   \n",
       "4            21.100359   20.877777        20.877777   20.734236   \n",
       "...                ...         ...              ...         ...   \n",
       "26483        22.656679   22.661179        22.686632   22.649493   \n",
       "26484        22.407122   22.388119        22.437216   22.374528   \n",
       "26485        21.851585   21.931400        21.881227   21.923831   \n",
       "26486        22.173256   22.208398        22.202576   22.205123   \n",
       "26487        22.604927   22.692917        22.634260   22.689487   \n",
       "\n",
       "       mag_true_i_lsst  mag_z_lsst  mag_true_z_lsst  mag_y_lsst  \\\n",
       "0            12.498678   12.448563        12.448563   12.411469   \n",
       "1            16.193966   16.135296        16.135296   16.098845   \n",
       "2            19.622835   19.530537        19.530537   19.493130   \n",
       "3            17.231880   17.115093        17.115093   17.046360   \n",
       "4            20.734236   20.685278        20.685278   20.661362   \n",
       "...                ...         ...              ...         ...   \n",
       "26483        22.674946   22.543755        22.569208   22.400735   \n",
       "26484        22.423624   22.267712        22.316809   22.122098   \n",
       "26485        21.873659   21.820440        21.770267   21.683090   \n",
       "26486        22.199301   22.104186        22.098364   21.972821   \n",
       "26487        22.630831   22.588461        22.529804   22.456882   \n",
       "\n",
       "       mag_true_y_lsst  \n",
       "0            12.411469  \n",
       "1            16.098845  \n",
       "2            19.493130  \n",
       "3            17.046360  \n",
       "4            20.661362  \n",
       "...                ...  \n",
       "26483        22.426188  \n",
       "26484        22.171194  \n",
       "26485        21.632917  \n",
       "26486        21.966999  \n",
       "26487        22.398226  \n",
       "\n",
       "[26488 rows x 18 columns]"
      ]
     },
     "execution_count": 10,
     "metadata": {},
     "output_type": "execute_result"
    }
   ],
   "source": [
    "mock_elg_cat"
   ]
  },
  {
   "cell_type": "code",
   "execution_count": 11,
   "id": "35752e62-3c08-4d1f-b588-1c402dd89eda",
   "metadata": {
    "tags": []
   },
   "outputs": [
    {
     "data": {
      "image/png": "[encoded data removed]",
      "text/plain": [
       "<Figure size 640x480 with 1 Axes>"
      ]
     },
     "metadata": {},
     "output_type": "display_data"
    }
   ],
   "source": [
    "# look at the redshift distribution of the mock ELG sample\n",
    "\n",
    "fig, ax = plt.subplots()\n",
    "ax.hist(mock_elg_cat['redshift'], bins=1000)\n",
    "ax.xaxis.set_tick_params(labelsize=12)\n",
    "ax.yaxis.set_tick_params(labelsize=12)"
   ]
  },
  {
   "cell_type": "code",
   "execution_count": 35,
   "id": "fe98fa56-5864-49e3-80d3-2ace12373ac5",
   "metadata": {
    "tags": []
   },
   "outputs": [
    {
     "data": {
      "text/plain": [
       "40"
      ]
     },
     "execution_count": 35,
     "metadata": {},
     "output_type": "execute_result"
    }
   ],
   "source": [
    "len(weightedavg)"
   ]
  },
  {
   "cell_type": "code",
   "execution_count": 12,
   "id": "6dce6883-5c8c-49a4-be6f-eac08f3d932a",
   "metadata": {
    "tags": []
   },
   "outputs": [
    {
     "data": {
      "text/plain": [
       "<matplotlib.legend.Legend at 0x7f89ccd05e70>"
      ]
     },
     "execution_count": 12,
     "metadata": {},
     "output_type": "execute_result"
    },
    {
     "data": {
      "image/png": "[encoded data removed]",
      "text/plain": [
       "<Figure size 640x480 with 1 Axes>"
      ]
     },
     "metadata": {},
     "output_type": "display_data"
    }
   ],
   "source": [
    "values_sim, edges = np.histogram(mock_elg_cat['redshift'], bins=np.linspace(0, 2, 41))\n",
    "\n",
    "\n",
    "fig, ax = plt.subplots()\n",
    "ax.stairs(weightedavg/np.sum(weightedavg), edges, linewidth=2, color ='grey', label= 'DESI LOP ELGs')\n",
    "ax.stairs(values_sim/np.sum(values_sim), edges, linewidth=2, color='blue', label='DESI Mock ELGs')\n",
    "# ax.axvline(x=1.10,ls='--', color='black')\n",
    "# ax.axvline(x=1.60,ls='--', color='black')\n",
    "ax.xaxis.set_tick_params(labelsize=20)\n",
    "ax.yaxis.set_tick_params(labelsize=20)\n",
    "ax.set_xlabel('redshift', fontsize=30)\n",
    "ax.set_ylabel('Observed N [$deg^{-2}]$', fontsize=30)\n",
    "ax.legend(loc='upper left', fontsize=12)"
   ]
  },
  {
   "cell_type": "code",
   "execution_count": 8,
   "id": "c19bbef3-8649-4529-897c-870dc9345af2",
   "metadata": {
    "tags": []
   },
   "outputs": [
    {
     "data": {
      "text/plain": [
       "'/global/u1/y/yoki/roman/desi_like_samples/notebooks'"
      ]
     },
     "execution_count": 8,
     "metadata": {},
     "output_type": "execute_result"
    }
   ],
   "source": [
    "# measure the clustering of the mock elgs and compare to the real ELGs"
   ]
  },
  {
   "cell_type": "code",
   "execution_count": 9,
   "id": "6f61e6bd-b313-4fb0-894b-60898d2d24a6",
   "metadata": {
    "tags": []
   },
   "outputs": [],
   "source": [
    "# save the mock elg cat\n",
    "\n",
    "output_name = 'mock_elg_cat_small'\n",
    "output = f'{output_name}.hdf5'\n",
    "mock_elg_cat_path = str(Path(f'../data/mock_cats/{output}'))\n",
    "key = 'df'\n",
    "mock_elg_cat.to_hdf(mock_elg_cat_path, key=key)"
   ]
  },
  {
   "cell_type": "code",
   "execution_count": null,
   "id": "02d70516-0726-4208-ba0c-1abdb3c25ebe",
   "metadata": {
    "tags": []
   },
   "outputs": [],
   "source": [
    "\n",
    "# fig, ax = plt.subplots()\n",
    "# ax.scatter(redshift, stellar_mass_tot, linewidth=2, color ='red')\n",
    "# ax.xaxis.set_tick_params(labelsize=12)\n",
    "# ax.yaxis.set_tick_params(labelsize=12)\n",
    "# ax.set_xlabel('Redshift', fontsize=16)\n",
    "# ax.set_ylabel('$M_{total}$', fontsize=16)\n",
    "# # ax.legend(loc='upper left', fontsize=16)\n",
    "# ax.set_yscale('log')"
   ]
  },
  {
   "cell_type": "code",
   "execution_count": 21,
   "id": "dec9bfb8-77e5-4048-8f5c-ac7565316bea",
   "metadata": {
    "tags": []
   },
   "outputs": [
    {
     "data": {
      "image/png": "[encoded data removed]",
      "text/plain": [
       "<Figure size 640x480 with 1 Axes>"
      ]
     },
     "metadata": {},
     "output_type": "display_data"
    }
   ],
   "source": [
    "\n",
    "# fig, ax = plt.subplots()\n",
    "# ax.scatter(redshift, star_formation_tot, linewidth=2, color ='blue')\n",
    "# ax.xaxis.set_tick_params(labelsize=12)\n",
    "# ax.yaxis.set_tick_params(labelsize=12)\n",
    "# ax.set_xlabel('Redshift', fontsize=16)\n",
    "# ax.set_ylabel('$SFR_{total}$', fontsize=16)\n",
    "# # ax.legend(loc='upper left', fontsize=16)\n",
    "# ax.set_yscale('log')"
   ]
  }
 ],
 "metadata": {
  "kernelspec": {
   "display_name": "desc-python",
   "language": "python",
   "name": "desc-python"
  },
  "language_info": {
   "codemirror_mode": {
    "name": "ipython",
    "version": 3
   },
   "file_extension": ".py",
   "mimetype": "text/x-python",
   "name": "python",
   "nbconvert_exporter": "python",
   "pygments_lexer": "ipython3",
   "version": "3.10.13"
  }
 },
 "nbformat": 4,
 "nbformat_minor": 5
}
