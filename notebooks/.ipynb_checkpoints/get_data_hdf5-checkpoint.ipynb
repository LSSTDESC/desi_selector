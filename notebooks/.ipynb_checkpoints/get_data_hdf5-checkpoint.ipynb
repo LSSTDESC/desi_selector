{
 "cells": [
  {
   "cell_type": "code",
   "execution_count": 7,
   "id": "86eaa92b-4b83-44a5-a1fc-2d5c8bab9cf2",
   "metadata": {
    "tags": []
   },
   "outputs": [],
   "source": [
    "import numpy as np\n",
    "import pandas as pd\n",
    "import healpy as hp\n",
    "import h5py\n",
    "import glob\n",
    "from pathlib import Path\n",
    "\n"
   ]
  },
  {
   "cell_type": "code",
   "execution_count": 12,
   "id": "53b4a3a1-0299-400f-b47e-48785ba110b2",
   "metadata": {},
   "outputs": [],
   "source": [
    "NEAR_ZERO = 3\n",
    "NEAR_360 = 357\n",
    "NSIDE = 32"
   ]
  },
  {
   "cell_type": "code",
   "execution_count": 24,
   "id": "6e137ffa-07f1-421a-881a-7390819285fd",
   "metadata": {
    "tags": []
   },
   "outputs": [],
   "source": [
    "filepath = '/global/cfs/cdirs/lsst/shared/xgal/skysim/skysim5000_v1.1.1'\n",
    "filename_list = glob.glob(filepath+'/*.hdf5')\n",
    "healpix_id_list = []\n",
    "\n",
    "\n",
    "for filename in filename_list:\n",
    "    healpix_id = int(filename.split('.')[-2].split('_')[-1])\n",
    "    healpix_id_list.append(healpix_id)\n",
    "\n",
    "\n",
    "theta, phi = hp.pix2ang(NSIDE, healpix_id_list, lonlat=False)\n",
    "\n",
    "ra = np.degrees(phi)  \n",
    "dec = 90 - np.degrees(theta)  \n",
    "\n",
    "edge_mask = np.logical_and(ra < NEAR_360, ra > NEAR_ZERO)\n",
    "\n",
    "healpix_unique_ids = list(set(np.array(healpix_id_list)[edge_mask]))\n",
    "path_healpix_ids = str(Path(f'../data/healpix_ids/id_nums_exclude_edges.npy'))\n",
    "np.save(path_healpix_ids, healpix_unique_ids)"
   ]
  },
  {
   "cell_type": "code",
   "execution_count": 25,
   "id": "8d166b2b-0f5b-49d7-953a-b958d967cd8b",
   "metadata": {},
   "outputs": [
    {
     "data": {
      "text/plain": [
       "1502"
      ]
     },
     "execution_count": 25,
     "metadata": {},
     "output_type": "execute_result"
    }
   ],
   "source": [
    "len(healpix_unique_ids)"
   ]
  },
  {
   "cell_type": "markdown",
   "id": "66b45a9c-ac35-4fee-b977-90ac0d8ca4b8",
   "metadata": {},
   "source": [
    "# <font color='red'> * How does the total area of the catalog change with respect to each additional healpix? How long does it take to loop over 5 healpix?\n",
    "\n",
    "\n",
    "\n",
    "</font>"
   ]
  }
 ],
 "metadata": {
  "kernelspec": {
   "display_name": "desc-python",
   "language": "python",
   "name": "desc-python"
  },
  "language_info": {
   "codemirror_mode": {
    "name": "ipython",
    "version": 3
   },
   "file_extension": ".py",
   "mimetype": "text/x-python",
   "name": "python",
   "nbconvert_exporter": "python",
   "pygments_lexer": "ipython3",
   "version": "3.10.13"
  }
 },
 "nbformat": 4,
 "nbformat_minor": 5
}
