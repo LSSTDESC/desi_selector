{
 "cells": [
  {
   "cell_type": "code",
   "execution_count": 1,
   "id": "87223a48-6013-494c-8370-60b4b580eb2d",
   "metadata": {},
   "outputs": [],
   "source": [
    "import fitsio\n",
    "import pycorr\n",
    "from pycorr import TwoPointCorrelationFunction\n",
    "import numpy as np\n",
    "from matplotlib import pyplot as plt\n",
    "import matplotlib as mpl\n",
    "import sys,os\n",
    "# from desi_y1_plotting.kp3 import KP3StylePaper\n",
    "# style = KP3StylePaper()\n",
    "# #set LSSCODE, e.g. via export LSSCODE=$HOME on the command line if that is where you cloned the repo \n",
    "# #sys.path.append(os.environ['LSSCODE']+'/LSS/py')\n",
    "# #from LSS import common_tools as common\n",
    "\n",
    "# #from LSS.tabulated_cosmo import TabulatedDESI\n",
    "# #cosmo = TabulatedDESI()\n",
    "# #dis_dc = cosmo.comoving_radial_distance\n",
    "\n",
    "# import argparse\n",
    "\n"
   ]
  },
  {
   "cell_type": "code",
   "execution_count": 4,
   "id": "5b4678aa-e6f3-40d9-87a8-f6d69f9edece",
   "metadata": {},
   "outputs": [
    {
     "name": "stdout",
     "output_type": "stream",
     "text": [
      "\u001b[31mERROR: Could not find a version that satisfies the requirement desi_y1_plotting (from versions: none)\u001b[0m\u001b[31m\n",
      "\u001b[0m\u001b[31mERROR: No matching distribution found for desi_y1_plotting\u001b[0m\u001b[31m\n",
      "\u001b[0m"
     ]
    }
   ],
   "source": [
    "# !pip install --user desi_y1_plotting"
   ]
  },
  {
   "cell_type": "code",
   "execution_count": null,
   "id": "415e3a3b-0494-406f-85e0-b92809089409",
   "metadata": {},
   "outputs": [],
   "source": [
    "parser = argparse.ArgumentParser()\n",
    "parser.add_argument(\"--indir\", help=\"base directory for catalogs\", default='/dvs_ro/cfs/cdirs/desi/survey/catalogs/Y1/LSS/iron/LSScats/v1.5/')\n",
    "parser.add_argument(\"--outdir\", help=\"output directory for the plots\", default=None)\n",
    "parser.add_argument(\"--mkLRG\", help=\"whether to make the QSO veto plot\", default='y')\n",
    "parser.add_argument(\"--mkQSO\", help=\"whether to make the LRG veto plot\", default='y')\n",
    "parser.add_argument(\"--mkELG\", help=\"whether to make the ELG veto plot\", default='y')\n",
    "parser.add_argument(\"--mkBGS\", help=\"whether to make the BGS veto plot\", default='y')\n",
    "args = parser.parse_args()\n",
    "\n",
    "lssdir = args.indir\n",
    "dircov = '/global/cfs/cdirs/desi/users/mrash/RascalC/Y1/'\n",
    "dircovpk = '/global/cfs/cdirs/desi/users/oalves/thecovs/y1_' \n",
    "outroot = 'xi024_compamtl_'"
   ]
  },
  {
   "cell_type": "code",
   "execution_count": null,
   "id": "9198bc1e-12bb-4d6e-96b6-5a20c322f3e4",
   "metadata": {},
   "outputs": [],
   "source": [
    "\n",
    "\n",
    "# if args.outdir is None:\n",
    "#     outdir = (args.indir.replace('dvs_ro','global'))+'KPplots/' \n",
    "# else:\n",
    "#     outdir = args.outdir\n",
    "\n",
    "# def points_with_errobars(x,y,errors,color='k',ptype='s',size=10,**kwargs):\n",
    "#     plt.errorbar(x,y,errors,fmt=ptype,color=color,markersize=size,capsize=size/1.5,elinewidth=size/5,capthick=size/5,**kwargs)\n",
    "\n",
    "# def plot_xipole_points_werr(s,xi,ell=0,mockmean=None,cov=None,clr='k',bf=1.,lab='',size=10,mec='k'):\n",
    "#     #style = KP3Style()\n",
    "#     ls = style.linestyles[ell] #if 'line' in markers else 'none'\n",
    "#     ps = style.points[ell] #if 'point' in markers else 'none'\n",
    "#     alph = style.alphas[ell]\n",
    "#     biasfac = 1\n",
    "#     if ell == 0:\n",
    "#         biasfac = bf**2.\n",
    "#     if ell == 2:\n",
    "#         biasfac = bf\n",
    "    \n",
    "    \n",
    "#     if mockmean is not None:\n",
    "#         plt.plot(s,s**2.*mockmean*biasfac,ls,color='k')#clr,alpha=alph)\n",
    "#     if cov is not None:    \n",
    "#         diag = np.zeros(len(s))\n",
    "#         for i in range(0,len(cov)):\n",
    "#             diag[i] = np.sqrt(cov[i][i])\n",
    "#         if mockmean is not None:\n",
    "#             diff = xi-biasfac*mockmean\n",
    "#             icov = np.linalg.inv(cov)\n",
    "#             chi2 = np.dot(diff,np.dot(diff,icov))\n",
    "#             print(bf,chi2)\n",
    "#             lab = lab + r'$\\ell=$'+str(ell)#+r',$\\chi^2$/dof='+str(round(chi2,1))+'/'+str(len(diff))\n",
    "#         #plt.errorbar(s,s**2.*xi,s**2*diag,fmt=ps,color=clr,alpha=alph,label=lab)\n",
    "#         points_with_errobars(s,s**2.*xi,s**2*diag,ptype=ps,color=clr,size=size,mec=mec,alpha=alph,label=lab)\n",
    "#     else:\n",
    "#         plt.plot(s,s**2.*xi,ps,color=clr,alpha=alph)\n",
    "\n",
    "# def getcov_rascalC(tracer,zrange,nran=4,smin=20,bs=4,smax=200,reg='GCcomb',wt='default_FKP',nran_sn=4,ells=[0],rpcut='',covmd='rescaled',rec='',version='unblinded/v1.2'):\n",
    "#     if rec != '':\n",
    "#         if tracer == 'QSO':\n",
    "#             sm = '30'\n",
    "#         else:\n",
    "#             sm = '15'\n",
    "#         rec = '_IFFT_recsym_sm'+sm\n",
    "#     cov = np.loadtxt(dircov+version+'/xi024_'+tracer+rec+'_'+reg+'_'+zrange+'_'+wt+'_lin4_s20-200_cov_RascalC_'+covmd+'.txt')\n",
    "#     if ells == [0,2,4] and smin == 20 and smax == 200:\n",
    "#         return cov\n",
    "#     if smin != 20 or smax != 200 and len(ells) > 1:\n",
    "#         return 'need to write in limit choices for more than 1 multipole'\n",
    "#     if len(ells) == 1:\n",
    "#         indmin = 45*ells[0]//2 + (smin-20)//bs\n",
    "#         indmax = 45*(1+ells[0]//2) - (200-smax)//bs\n",
    "#         cov = cov[indmin:indmax,indmin:indmax]\n",
    "#         return cov\n",
    "\n",
    "def getxi_desipipe_baseline(tp,zrange,reg='GCcomb',rpcut='',version='unblinded',cut='',bs=4,rec=''):\n",
    "    from pycorr import TwoPointCorrelationFunction\n",
    "    fn = lssdir+version+'/desipipe/baseline_2pt/'+rec+'/xi/smu/allcounts_'+tp+'_GCcomb_z'+zrange+cut+'.npy'\n",
    "    result = TwoPointCorrelationFunction.load(fn)\n",
    "    factor = bs\n",
    "    rebinned = result[:(result.shape[0] // factor) * factor:factor]\n",
    "    sep, xis = rebinned(ells=(0, 2, 4), return_sep=True, return_std=False)\n",
    "    return sep,xis\n",
    "\n",
    "# def get_xiave_desipipe_ab_baseline(zr='0.4-0.6',tp='LRG',rec='',nmock=25,flavor='altmtl',mockversion='v4_1fixran',reg='GCcomb',thetacut=''):\n",
    "#     from pycorr import TwoPointCorrelationFunction\n",
    "#     mocks = 'AbacusSummit'\n",
    "#     if tp[:3] == 'BGS':\n",
    "#         mocks += 'BGS'\n",
    "#     dirr = '/global/cfs/cdirs/desi/survey/catalogs/Y1/mocks/SecondGenMocks/'+mocks+'/desipipe/'+mockversion+'/'+flavor+'/baseline_2pt/mock'\n",
    "#     xil = []\n",
    "#     sepl = []\n",
    "#     for i in range(0,nmock):\n",
    "#         fn = dirr + str(i)+'/'+rec+'/xi/smu/allcounts_'+tp+'_'+reg+'_z'+zr+thetacut+'.npy'\n",
    "#         result = TwoPointCorrelationFunction.load(fn)\n",
    "#         factor = 4\n",
    "#         rebinned = result[:(result.shape[0] // factor) * factor:factor]\n",
    "#         sep, xis = rebinned(ells=(0, 2, 4), return_sep=True, return_std=False)\n",
    "#         xil.append(xis)\n",
    "#         sepl.append(sep)\n",
    "#     xi = sum(xil)/nmock\n",
    "#     sep = sum(sepl)/nmock\n",
    "#     return sep,xi\n",
    "\n",
    "\n",
    "@mpl.rc_context(style._rcparams)\n",
    "def plot_desipipe_xidatamock_comp_3ell(tp,zr,rec='',size=5,bf=1,version='unblinded',flavor='altmtl',mockversion='v4_1fixran',titl='',doleg=1):\n",
    "    ells = [0,2,4]\n",
    "    sep,ximock = get_xiave_desipipe_ab_baseline(zr=str(zr[0])+'-'+str(zr[1]),tp=tp,rec=rec,flavor=flavor,mockversion=mockversion)\n",
    "    \n",
    "    clr = style.colors[tp, (zr[0],zr[1])]\n",
    "    print(clr)\n",
    "    s,xiall = getxi_desipipe_baseline(tp,str(zr[0])+'-'+str(zr[1]),version=version,rec=rec)#nran=nran)\n",
    "    s = s[5:]\n",
    "    \n",
    "    for ell in ells:\n",
    "        xi = xiall[ell//2][5:]\n",
    "        mockxi = ximock[ell//2][5:]\n",
    "        cov = getcov_rascalC(tp,str(zr[0])+'_'+str(zr[1]),ells=[ell],rec=rec)\n",
    "        plot_xipole_points_werr(s,xi,ell=ell,mockmean=mockxi,cov=cov,clr=clr,bf=bf,size=size,mec=clr)\n",
    "    plt.xlabel(r's ($h^{-1}$Mpc)')\n",
    "    plt.ylabel(r'$s^2\\xi$  ($h^{-2}$Mpc$^2$)')\n",
    "    if doleg == 1:\n",
    "        plt.legend()\n",
    "    return\n",
    "\n",
    "# plt.clf()\n",
    "# print(mpl.rcParams['figure.figsize'])\n",
    "# if args.mkBGS == 'y':\n",
    "#     plot_desipipe_xidatamock_comp_3ell('BGS_BRIGHT-21.5',(0.1,0.4),mockversion='v1',version= 'unblinded',rec='',titl=r'BGS $0.1<z<0.4$')\n",
    "#     #plt.title(r'BGS $0.1<z<0.4$')\n",
    "#     plt.ylim(-120,120)\n",
    "#     plt.savefig(outdir+outroot+'BGS.pdf', bbox_inches='tight')\n",
    "# # plt.clf()\n",
    "# if args.mkLRG == 'y':\n",
    "\n",
    "#     zrl = [(0.4,0.6),(0.6,0.8),(0.8,1.1)]\n",
    "#     c = 0\n",
    "#     doleg = 1\n",
    "#     for zr in zrl:\n",
    "#         plot_desipipe_xidatamock_comp_3ell('LRG',zr,mockversion='v4_1fixran',version= 'unblinded',rec='',titl=r'LRG $'+str(zr[0])+'<z<'+str(zr[1])+'$',doleg=doleg)\n",
    "#         #plt.title(r'LRG $'+str(zr[0])+'<z<'+str(zr[1])+'$')\n",
    "#         plt.ylim(-120,120)\n",
    "#         plt.savefig(outdir+outroot+'LRG'+str(c)+'.pdf', bbox_inches='tight')\n",
    "#         plt.show()\n",
    "#         c += 1 \n",
    "#         plt.clf()\n",
    "#         doleg = 0 #only do the legend for the first plot\n",
    "\n",
    "\n",
    "\n",
    "plt.clf()\n",
    "if args.mkELG == 'y':\n",
    "\n",
    "    zrl = [(0.8,1.1),(1.1,1.6)]\n",
    "    c = 0\n",
    "    doleg = 1\n",
    "    for zr in zrl:\n",
    "        plot_desipipe_xidatamock_comp_3ell('ELG_LOPnotqso',zr,mockversion='v4_1fixran',version= 'unblinded',rec='',titl=r'ELG $'+str(zr[0])+'<z<'+str(zr[1])+'$',doleg=doleg)\n",
    "        #plt.title(r'ELG $'+str(zr[0])+'<z<'+str(zr[1])+'$')\n",
    "        plt.ylim(-65,40)\n",
    "        plt.savefig(outdir+outroot+'ELG'+str(c)+'.pdf', bbox_inches='tight')\n",
    "        plt.show()\n",
    "        c += 1\n",
    "        plt.clf()\n",
    "        doleg = 0\n",
    "\n",
    "\n",
    "# plt.clf()\n",
    "# if args.mkQSO == 'y':\n",
    "    \n",
    "#     zr = (0.8,2.1)\n",
    "#     plot_desipipe_xidatamock_comp_3ell('QSO',zr,mockversion='v4_1fixran',version= 'unblinded',rec='',titl=r'QSO $'+str(zr[0])+'<z<'+str(zr[1])+'$')\n",
    "#     #plt.title(r'QSO $'+str(zr[0])+'<z<'+str(zr[1])+'$')\n",
    "#     plt.savefig(outdir+outroot+'QSO.pdf', bbox_inches='tight')\n",
    "#     plt.show()"
   ]
  },
  {
   "cell_type": "code",
   "execution_count": 2,
   "id": "2544bdeb-c889-4d25-9d3f-3b19a957d493",
   "metadata": {},
   "outputs": [],
   "source": [
    "filename = '/global/cfs/cdirs/desi/survey/catalogs/Y1/LSS/iron/LSScats/v1.5/unblinded/desipipe/baseline_2pt/xi/smu/allcounts_ELG_LOPnotqso_SGC_z0.8-1.1.npy'"
   ]
  },
  {
   "cell_type": "code",
   "execution_count": 4,
   "id": "fa2e4538-9eb8-4739-8e6c-3266350e23ba",
   "metadata": {},
   "outputs": [],
   "source": [
    "result = TwoPointCorrelationFunction.load(filename)\n",
    "\n",
    "bs = 4\n",
    "factor = bs\n",
    "rebinned = result[:(result.shape[0] // factor) * factor:factor]\n",
    "sep, xis = rebinned(ells=(0, 2, 4), return_sep=True, return_std=False)\n"
   ]
  },
  {
   "cell_type": "code",
   "execution_count": null,
   "id": "9d8a6f8c-9ab7-47bd-86e3-bc7a19abe5c4",
   "metadata": {},
   "outputs": [],
   "source": [
    "np.savez(\"/global/homes/y/yoki/roman/desi_like_samples/skysim_5000/data/desi_sv_data/desi_elg_ts_zenodo/elg_corr_data_z_0.8_1.1.npz\", sep=sep, xis=xis)"
   ]
  },
  {
   "cell_type": "code",
   "execution_count": 19,
   "id": "d90e4bd6-efa9-442f-af82-794b231c9624",
   "metadata": {},
   "outputs": [
    {
     "data": {
      "text/plain": [
       "[<matplotlib.lines.Line2D at 0x7ff75e3a9510>]"
      ]
     },
     "execution_count": 19,
     "metadata": {},
     "output_type": "execute_result"
    },
    {
     "data": {
      "image/png": "[encoded data removed]",
      "text/plain": [
       "<Figure size 640x480 with 1 Axes>"
      ]
     },
     "metadata": {},
     "output_type": "display_data"
    }
   ],
   "source": [
    "plt.plot(sep, (sep**2)*(xis[0]))\n",
    "# plt.plot(sep, xis)\n",
    "# plt.plot(sep, xis)"
   ]
  },
  {
   "cell_type": "code",
   "execution_count": null,
   "id": "4426c6eb-44f2-4a62-9cb4-78644a9c13e6",
   "metadata": {},
   "outputs": [],
   "source": []
  }
 ],
 "metadata": {
  "kernelspec": {
   "display_name": "cosmodesi-main",
   "language": "python",
   "name": "cosmodesi-main"
  },
  "language_info": {
   "codemirror_mode": {
    "name": "ipython",
    "version": 3
   },
   "file_extension": ".py",
   "mimetype": "text/x-python",
   "name": "python",
   "nbconvert_exporter": "python",
   "pygments_lexer": "ipython3",
   "version": "3.10.13"
  }
 },
 "nbformat": 4,
 "nbformat_minor": 5
}
