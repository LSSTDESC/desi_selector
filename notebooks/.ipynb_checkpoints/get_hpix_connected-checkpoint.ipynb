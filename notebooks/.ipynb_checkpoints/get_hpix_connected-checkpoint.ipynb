{
 "cells": [
  {
   "cell_type": "code",
   "execution_count": 2,
   "id": "e3347e41-bb24-4309-8a75-23a897ed0d3e",
   "metadata": {},
   "outputs": [
    {
     "ename": "ModuleNotFoundError",
     "evalue": "No module named 'healpy'",
     "output_type": "error",
     "traceback": [
      "\u001b[0;31m---------------------------------------------------------------------------\u001b[0m",
      "\u001b[0;31mModuleNotFoundError\u001b[0m                       Traceback (most recent call last)",
      "Cell \u001b[0;32mIn[2], line 3\u001b[0m\n\u001b[1;32m      1\u001b[0m \u001b[38;5;28;01mimport\u001b[39;00m \u001b[38;5;21;01mnumpy\u001b[39;00m \u001b[38;5;28;01mas\u001b[39;00m \u001b[38;5;21;01mnp\u001b[39;00m\n\u001b[1;32m      2\u001b[0m \u001b[38;5;28;01mimport\u001b[39;00m \u001b[38;5;21;01mpandas\u001b[39;00m \u001b[38;5;28;01mas\u001b[39;00m \u001b[38;5;21;01mpd\u001b[39;00m\n\u001b[0;32m----> 3\u001b[0m \u001b[38;5;28;01mimport\u001b[39;00m \u001b[38;5;21;01mhealpy\u001b[39;00m \u001b[38;5;28;01mas\u001b[39;00m \u001b[38;5;21;01mhp\u001b[39;00m\n\u001b[1;32m      4\u001b[0m \u001b[38;5;28;01mfrom\u001b[39;00m \u001b[38;5;21;01mscipy\u001b[39;00m \u001b[38;5;28;01mimport\u001b[39;00m interpolate\n\u001b[1;32m      5\u001b[0m \u001b[38;5;28;01mfrom\u001b[39;00m \u001b[38;5;21;01mastropy\u001b[39;00m \u001b[38;5;28;01mimport\u001b[39;00m table\n",
      "\u001b[0;31mModuleNotFoundError\u001b[0m: No module named 'healpy'"
     ]
    }
   ],
   "source": [
    "import numpy as np\n",
    "import pandas as pd\n",
    "import healpy as hp\n",
    "from scipy import interpolate\n",
    "from astropy import table\n",
    "import h5py\n",
    "import glob\n",
    "import sys\n",
    "from pathlib import Path\n",
    "from astropy.cosmology import Planck18 as cosmo\n",
    "from astropy.coordinates import SkyCoord\n",
    "from astropy import units as u\n",
    "import matplotlib.pyplot as plt\n",
    "import fastparquet\n",
    "\n"
   ]
  },
  {
   "cell_type": "code",
   "execution_count": null,
   "id": "798714b9-1e25-4d3b-8781-2c83b1764e4c",
   "metadata": {},
   "outputs": [],
   "source": [
    "filepath = '/global/cfs/cdirs/lsst/shared/xgal/skysim/skysim5000_v1.1.1/*'\n",
    "pixel_id_list = []\n",
    "filename_list = glob.glob(filepath) # get all filenames in skysim5000\n",
    "\n",
    "\n",
    "for filename in filename_list:\n",
    "    pixel_id = int(filename.split('/')[-1].split('_')[-1].split('.')[0])\n",
    "    pixel_id_list.append(pixel_id)\n",
    "pixel_unique = list(set(pixel_id_list)) # this is the list of unique pixel id\n",
    "nside = 32  # Set the correct NSIDE for your data\n",
    "\n",
    "\n",
    "# Convert HEALPix indices to (theta, phi)\n",
    "theta, phi = hp.pix2ang(nside, pixel_unique, lonlat=False)\n",
    "\n",
    "ra = np.degrees(phi)  # Phi is the longitude (RA)\n",
    "dec = 90 - np.degrees(theta)  # Theta is the co-latitude\n",
    "\n",
    "ra_min = 0\n",
    "ra_max = 100\n",
    "dec_min = 0\n",
    "dec_max = -90\n"
   ]
  },
  {
   "cell_type": "code",
   "execution_count": 1,
   "id": "cff0ed59-93d2-4ea5-88a2-edfadbd32523",
   "metadata": {},
   "outputs": [
    {
     "ename": "NameError",
     "evalue": "name 'np' is not defined",
     "output_type": "error",
     "traceback": [
      "\u001b[0;31m---------------------------------------------------------------------------\u001b[0m",
      "\u001b[0;31mNameError\u001b[0m                                 Traceback (most recent call last)",
      "Cell \u001b[0;32mIn[1], line 3\u001b[0m\n\u001b[1;32m      1\u001b[0m \u001b[38;5;66;03m# all of the healpix ids\u001b[39;00m\n\u001b[1;32m      2\u001b[0m path_all_healpix_ids \u001b[38;5;241m=\u001b[39m \u001b[38;5;124m'\u001b[39m\u001b[38;5;124m/global/homes/y/yoki/roman/desi_like_samples/skysim_5000/data/healpix_ids/id_nums.npy\u001b[39m\u001b[38;5;124m'\u001b[39m\n\u001b[0;32m----> 3\u001b[0m all_healpix_ids \u001b[38;5;241m=\u001b[39m \u001b[43mnp\u001b[49m\u001b[38;5;241m.\u001b[39mload(path_all_healpix_ids)\n",
      "\u001b[0;31mNameError\u001b[0m: name 'np' is not defined"
     ]
    }
   ],
   "source": [
    "# all of the healpix ids\n",
    "path_all_healpix_ids = '/global/homes/y/yoki/roman/desi_like_samples/skysim_5000/data/healpix_ids/id_nums.npy'\n",
    "all_healpix_ids = np.load(path_all_healpix_ids)"
   ]
  },
  {
   "cell_type": "code",
   "execution_count": null,
   "id": "1331ccb9-4678-4b0a-bbbf-0397fdab50d3",
   "metadata": {},
   "outputs": [],
   "source": [
    "# flag for area selection\n",
    "flag = (ra<ra_max) * (ra>ra_min) * (dec<dec_min) * (dec>dec_max)\n",
    "healpix_ids = np.array(pixel_unique)[flag]\n",
    "print(f'The number of spatially connected healpix is {len(healpix_ids)}')\n",
    "path_ids = '/global/homes/y/yoki/roman/desi_like_samples/skysim_5000/data/healpix_ids/id_connected_nums.npy'"
   ]
  }
 ],
 "metadata": {
  "kernelspec": {
   "display_name": "NERSC Python",
   "language": "python",
   "name": "python3"
  },
  "language_info": {
   "codemirror_mode": {
    "name": "ipython",
    "version": 3
   },
   "file_extension": ".py",
   "mimetype": "text/x-python",
   "name": "python",
   "nbconvert_exporter": "python",
   "pygments_lexer": "ipython3",
   "version": "3.11.7"
  }
 },
 "nbformat": 4,
 "nbformat_minor": 5
}
