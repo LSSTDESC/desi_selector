{
 "cells": [
  {
   "cell_type": "code",
   "execution_count": 1,
   "id": "e3347e41-bb24-4309-8a75-23a897ed0d3e",
   "metadata": {},
   "outputs": [],
   "source": [
    "import numpy as np\n",
    "import pandas as pd\n",
    "import healpy as hp\n",
    "from scipy import interpolate\n",
    "from astropy import table\n",
    "import h5py\n",
    "import glob\n",
    "import sys\n",
    "from pathlib import Path\n",
    "from astropy.cosmology import Planck18 as cosmo\n",
    "from astropy.coordinates import SkyCoord\n",
    "from astropy import units as u\n",
    "import matplotlib.pyplot as plt\n",
    "import fastparquet\n",
    "\n"
   ]
  },
  {
   "cell_type": "code",
   "execution_count": null,
   "id": "798714b9-1e25-4d3b-8781-2c83b1764e4c",
   "metadata": {},
   "outputs": [],
   "source": [
    "filepath = '/global/cfs/cdirs/lsst/shared/xgal/skysim/skysim5000_v1.1.1/*'\n",
    "pixel_id_list = []\n",
    "filename_list = glob.glob(filepath) # get all filenames in skysim5000\n",
    "\n",
    "\n",
    "for filename in filename_list:\n",
    "    pixel_id = int(filename.split('/')[-1].split('_')[-1].split('.')[0])\n",
    "    pixel_id_list.append(pixel_id)\n",
    "pixel_unique = list(set(pixel_id_list)) # this is the list of unique pixel id\n",
    "nside = 32  # Set the correct NSIDE for your data\n",
    "\n",
    "\n",
    "# Convert HEALPix indices to (theta, phi)\n",
    "theta, phi = hp.pix2ang(nside, pixel_unique, lonlat=False)\n",
    "\n",
    "ra = np.degrees(phi)  # Phi is the longitude (RA)\n",
    "dec = 90 - np.degrees(theta)  # Theta is the co-latitude\n",
    "\n",
    "ra_min = 0\n",
    "ra_max = 100\n",
    "dec_min = 0\n",
    "dec_max = -90\n"
   ]
  },
  {
   "cell_type": "code",
   "execution_count": 6,
   "id": "cff0ed59-93d2-4ea5-88a2-edfadbd32523",
   "metadata": {},
   "outputs": [
    {
     "data": {
      "text/plain": [
       "1568"
      ]
     },
     "execution_count": 6,
     "metadata": {},
     "output_type": "execute_result"
    }
   ],
   "source": [
    "# all of the healpix ids\n",
    "path_all_healpix_ids = '/global/homes/y/yoki/roman/desi_like_samples/skysim_5000/data/healpix_ids/id_nums.npy'\n",
    "all_healpix_ids = set(np.load(path_all_healpix_ids))\n",
    "len(all_healpix_ids)"
   ]
  },
  {
   "cell_type": "code",
   "execution_count": null,
   "id": "1331ccb9-4678-4b0a-bbbf-0397fdab50d3",
   "metadata": {},
   "outputs": [],
   "source": [
    "# flag for area selection\n",
    "# flag = (ra<ra_max) * (ra>ra_min) * (dec<dec_min) * (dec>dec_max)\n",
    "# healpix_ids = np.array(pixel_unique)[flag]\n",
    "# print(f'The number of spatially connected healpix is {len(healpix_ids)}')\n",
    "# path_ids = '/global/homes/y/yoki/roman/desi_like_samples/skysim_5000/data/healpix_ids/id_connected_nums.npy'"
   ]
  }
 ],
 "metadata": {
  "kernelspec": {
   "display_name": "desc-python",
   "language": "python",
   "name": "desc-python"
  },
  "language_info": {
   "codemirror_mode": {
    "name": "ipython",
    "version": 3
   },
   "file_extension": ".py",
   "mimetype": "text/x-python",
   "name": "python",
   "nbconvert_exporter": "python",
   "pygments_lexer": "ipython3",
   "version": "3.10.13"
  }
 },
 "nbformat": 4,
 "nbformat_minor": 5
}
